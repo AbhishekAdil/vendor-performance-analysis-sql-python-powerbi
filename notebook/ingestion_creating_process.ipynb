{
 "cells": [
  {
   "cell_type": "code",
   "execution_count": 22,
   "id": "3c703ceb-fa65-4d5c-b5fa-f83bc7867ceb",
   "metadata": {},
   "outputs": [],
   "source": [
    "import pandas as pd\n",
    "from sqlalchemy import create_engine\n",
    "import os\n",
    "import time\n",
    "import logging"
   ]
  },
  {
   "cell_type": "code",
   "execution_count": 23,
   "id": "b3ec0ec9-2be9-447a-b7f6-efbba41e2dfe",
   "metadata": {},
   "outputs": [],
   "source": [
    "# create logging\n",
    "\n",
    "logging.basicConfig(\n",
    "    filename = \"logs/ingestion_db.log\",\n",
    "    level = logging.DEBUG,\n",
    "    format=\"%(asctime)s - %(levelname)s - %(message)s\",\n",
    "    filemode = \"a\"\n",
    ")"
   ]
  },
  {
   "cell_type": "code",
   "execution_count": 24,
   "id": "8ae7ff6d-a9ea-4957-a11c-b8da1c0685f1",
   "metadata": {},
   "outputs": [],
   "source": [
    "# create engine\n",
    "\n",
    "engine = create_engine('sqlite:///inventory.db')"
   ]
  },
  {
   "cell_type": "code",
   "execution_count": 13,
   "id": "7462999d-d5a8-41ec-914f-9caa6caf36df",
   "metadata": {},
   "outputs": [
    {
     "name": "stdout",
     "output_type": "stream",
     "text": [
      "begin_inventory.csv\n",
      "end_inventory.csv\n",
      "purchases.csv\n",
      "purchase_prices.csv\n",
      "sales.csv\n",
      "vendor_invoice.csv\n"
     ]
    }
   ],
   "source": [
    "# Read the files\n",
    "\n",
    "for file in os.listdir('data'):\n",
    "    if '.csv' in file :\n",
    "        print(file)"
   ]
  },
  {
   "cell_type": "code",
   "execution_count": 14,
   "id": "763d49c2-3a9a-47c2-b0fb-3f9de07ec2c8",
   "metadata": {},
   "outputs": [
    {
     "name": "stdout",
     "output_type": "stream",
     "text": [
      "(206529, 9)\n",
      "(224489, 9)\n",
      "(2372474, 16)\n",
      "(12261, 9)\n",
      "(12825363, 14)\n",
      "(5543, 10)\n"
     ]
    }
   ],
   "source": [
    "# print shape of the csv files\n",
    "\n",
    "for file in os.listdir('data'):\n",
    "    if '.csv' in file:\n",
    "        df = pd.read_csv('data/'+file)\n",
    "        print(df.shape)"
   ]
  },
  {
   "cell_type": "code",
   "execution_count": 25,
   "id": "1517202c-8083-4488-910d-3493172f0396",
   "metadata": {},
   "outputs": [],
   "source": [
    "# create a function for ingestion\n",
    "# this function will ingest the dataframe into database table\n",
    "\n",
    "def ingest_db(df, table_name, engine):\n",
    "    df.to_sql(table_name, con = engine, if_exists = 'replace' , index = False)"
   ]
  },
  {
   "cell_type": "code",
   "execution_count": 19,
   "id": "e7457d5d-6a90-42df-8bd5-74f4d8d715da",
   "metadata": {},
   "outputs": [
    {
     "name": "stdout",
     "output_type": "stream",
     "text": [
      "(206529, 9)\n",
      "(224489, 9)\n",
      "(2372474, 16)\n",
      "(12261, 9)\n",
      "(12825363, 14)\n",
      "(5543, 10)\n"
     ]
    }
   ],
   "source": [
    "# inserting csv files into database\n",
    "\n",
    "for file in os.listdir('data'):\n",
    "    if '.csv' in file:\n",
    "        df = pd.read_csv('data/'+file)\n",
    "        print(df.shape)\n",
    "        ingest_db(df, file[:-4], engine)"
   ]
  },
  {
   "cell_type": "code",
   "execution_count": 26,
   "id": "0b6f723a-5f8d-401d-a70d-4ac3ca66265c",
   "metadata": {},
   "outputs": [],
   "source": [
    "'''This function will load the CSVs as dataframe and ingest into db'''\n",
    "\n",
    "def load_raw_data():\n",
    "    strat = time.time()\n",
    "    for file in os. listdir('data'):\n",
    "        if '.csv' in file:\n",
    "            df = pd.read_csv('data/'+file)\n",
    "            logging.info(f'Ingestion {file} in db')\n",
    "            ingest_db(df, file[-4], engine)\n",
    "    end = time.time()\n",
    "    total_time = (end - strat)/60\n",
    "    logging.info('----Ingestion Complete----')\n",
    "    logging.info(f'\\nTotal Time Taken : {total_time} minutes')\n",
    "\n",
    "if __name__ == '__main__':\n",
    "    load_raw_data()"
   ]
  },
  {
   "cell_type": "code",
   "execution_count": null,
   "id": "863cf17a-52e7-4542-8d9d-92425eb5d040",
   "metadata": {},
   "outputs": [],
   "source": []
  }
 ],
 "metadata": {
  "kernelspec": {
   "display_name": "Python 3 (ipykernel)",
   "language": "python",
   "name": "python3"
  },
  "language_info": {
   "codemirror_mode": {
    "name": "ipython",
    "version": 3
   },
   "file_extension": ".py",
   "mimetype": "text/x-python",
   "name": "python",
   "nbconvert_exporter": "python",
   "pygments_lexer": "ipython3",
   "version": "3.13.3"
  }
 },
 "nbformat": 4,
 "nbformat_minor": 5
}
